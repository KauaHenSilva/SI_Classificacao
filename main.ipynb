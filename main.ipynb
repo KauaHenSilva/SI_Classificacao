{
 "cells": [
  {
   "cell_type": "code",
   "execution_count": null,
   "id": "0fb687b3",
   "metadata": {},
   "outputs": [
    {
     "name": "stdout",
     "output_type": "stream",
     "text": [
      "Note: you may need to restart the kernel to use updated packages.\n"
     ]
    },
    {
     "name": "stderr",
     "output_type": "stream",
     "text": [
      "\n",
      "[notice] A new release of pip is available: 25.1.1 -> 25.2\n",
      "[notice] To update, run: python.exe -m pip install --upgrade pip\n"
     ]
    }
   ],
   "source": [
    "%pip install -q pandas"
   ]
  },
  {
   "cell_type": "code",
   "execution_count": 20,
   "id": "cace5540",
   "metadata": {},
   "outputs": [],
   "source": [
    "import os\n",
    "import zipfile\n",
    "import pandas as pd"
   ]
  },
  {
   "cell_type": "code",
   "execution_count": 21,
   "id": "6da7502d",
   "metadata": {},
   "outputs": [
    {
     "name": "stderr",
     "output_type": "stream",
     "text": [
      "  % Total    % Received % Xferd  Average Speed   Time    Time     Time  Current\n",
      "                                 Dload  Upload   Total   Spent    Left  Speed\n",
      "\n",
      "  0     0    0     0    0     0      0      0 --:--:-- --:--:-- --:--:--     0\n",
      "  0     0    0     0    0     0      0      0 --:--:-- --:--:-- --:--:--     0\n",
      "\n",
      " 18 94250   18 17728    0     0  18922      0  0:00:04 --:--:--  0:00:04 18922\n",
      "100 94250  100 94250    0     0  83554      0  0:00:01  0:00:01 --:--:--  391k\n"
     ]
    }
   ],
   "source": [
    "path_data = \"dataset\"\n",
    "path_dataset_download = \"dataset/gallstone-1.zip\"\n",
    "path_dataset_file = \"dataset/Gallstone_csv.csv\"\n",
    "\n",
    "os.makedirs(path_data, exist_ok=True)\n",
    "if not os.path.exists(path_dataset_download):\n",
    "    !curl -L \"https://www.kaggle.com/api/v1/datasets/download/yasserhessein/gallstone\" -o \"{path_dataset_download}\"\n",
    "zipfile.ZipFile(path_dataset_download, 'r').extractall(path_data)"
   ]
  },
  {
   "cell_type": "code",
   "execution_count": 22,
   "id": "c02e4b52",
   "metadata": {},
   "outputs": [
    {
     "data": {
      "application/vnd.microsoft.datawrangler.viewer.v0+json": {
       "columns": [
        {
         "name": "index",
         "rawType": "int64",
         "type": "integer"
        },
        {
         "name": "Gallstone Status",
         "rawType": "int64",
         "type": "integer"
        },
        {
         "name": "Age",
         "rawType": "int64",
         "type": "integer"
        },
        {
         "name": "Gender",
         "rawType": "int64",
         "type": "integer"
        },
        {
         "name": "Comorbidity",
         "rawType": "int64",
         "type": "integer"
        },
        {
         "name": "Coronary Artery Disease (CAD)",
         "rawType": "int64",
         "type": "integer"
        },
        {
         "name": "Hypothyroidism",
         "rawType": "int64",
         "type": "integer"
        },
        {
         "name": "Hyperlipidemia",
         "rawType": "int64",
         "type": "integer"
        },
        {
         "name": "Diabetes Mellitus (DM)",
         "rawType": "int64",
         "type": "integer"
        },
        {
         "name": "Height",
         "rawType": "int64",
         "type": "integer"
        },
        {
         "name": "Weight",
         "rawType": "float64",
         "type": "float"
        },
        {
         "name": "Body Mass Index (BMI)",
         "rawType": "float64",
         "type": "float"
        },
        {
         "name": "Total Body Water (TBW)",
         "rawType": "float64",
         "type": "float"
        },
        {
         "name": "Extracellular Water (ECW)",
         "rawType": "float64",
         "type": "float"
        },
        {
         "name": "Intracellular Water (ICW)",
         "rawType": "float64",
         "type": "float"
        },
        {
         "name": "Extracellular Fluid/Total Body Water (ECF/TBW)",
         "rawType": "float64",
         "type": "float"
        },
        {
         "name": "Total Body Fat Ratio (TBFR) (%)",
         "rawType": "float64",
         "type": "float"
        },
        {
         "name": "Lean Mass (LM) (%)",
         "rawType": "float64",
         "type": "float"
        },
        {
         "name": "Body Protein Content (Protein) (%)",
         "rawType": "float64",
         "type": "float"
        },
        {
         "name": "Visceral Fat Rating (VFR)",
         "rawType": "int64",
         "type": "integer"
        },
        {
         "name": "Bone Mass (BM)",
         "rawType": "float64",
         "type": "float"
        },
        {
         "name": "Muscle Mass (MM)",
         "rawType": "float64",
         "type": "float"
        },
        {
         "name": "Obesity (%)",
         "rawType": "float64",
         "type": "float"
        },
        {
         "name": "Total Fat Content (TFC)",
         "rawType": "float64",
         "type": "float"
        },
        {
         "name": "Visceral Fat Area (VFA)",
         "rawType": "float64",
         "type": "float"
        },
        {
         "name": "Visceral Muscle Area (VMA) (Kg)",
         "rawType": "float64",
         "type": "float"
        },
        {
         "name": "Hepatic Fat Accumulation (HFA)",
         "rawType": "int64",
         "type": "integer"
        },
        {
         "name": "Glucose",
         "rawType": "float64",
         "type": "float"
        },
        {
         "name": "Total Cholesterol (TC)",
         "rawType": "float64",
         "type": "float"
        },
        {
         "name": "Low Density Lipoprotein (LDL)",
         "rawType": "float64",
         "type": "float"
        },
        {
         "name": "High Density Lipoprotein (HDL)",
         "rawType": "float64",
         "type": "float"
        },
        {
         "name": "Triglyceride",
         "rawType": "float64",
         "type": "float"
        },
        {
         "name": "Aspartat Aminotransferaz (AST)",
         "rawType": "float64",
         "type": "float"
        },
        {
         "name": "Alanin Aminotransferaz (ALT)",
         "rawType": "float64",
         "type": "float"
        },
        {
         "name": "Alkaline Phosphatase (ALP)",
         "rawType": "float64",
         "type": "float"
        },
        {
         "name": "Creatinine",
         "rawType": "float64",
         "type": "float"
        },
        {
         "name": "Glomerular Filtration Rate (GFR)",
         "rawType": "float64",
         "type": "float"
        },
        {
         "name": "C-Reactive Protein (CRP)",
         "rawType": "float64",
         "type": "float"
        },
        {
         "name": "Hemoglobin (HGB)",
         "rawType": "float64",
         "type": "float"
        },
        {
         "name": "Vitamin D",
         "rawType": "float64",
         "type": "float"
        }
       ],
       "ref": "388e2c35-1ec2-436c-acd6-e0db654d2002",
       "rows": [
        [
         "0",
         "0",
         "50",
         "0",
         "0",
         "0",
         "0",
         "0",
         "0",
         "185",
         "92.8",
         "27.1",
         "52.9",
         "21.2",
         "31.7",
         "40.0",
         "19.2",
         "80.84",
         "18.88",
         "9",
         "3.7",
         "71.4",
         "23.4",
         "17.8",
         "10.6",
         "39.7",
         "0",
         "102.0",
         "250.0",
         "175.0",
         "40.0",
         "134.0",
         "20.0",
         "22.0",
         "87.0",
         "0.82",
         "112.47",
         "0.0",
         "16.0",
         "33.0"
        ],
        [
         "1",
         "0",
         "47",
         "0",
         "1",
         "0",
         "0",
         "0",
         "0",
         "176",
         "94.5",
         "30.5",
         "43.1",
         "19.5",
         "23.6",
         "45.0",
         "32.8",
         "67.2",
         "16.68",
         "15",
         "3.2",
         "60.3",
         "38.8",
         "31.0",
         "18.4",
         "32.7",
         "0",
         "94.0",
         "172.0",
         "108.0",
         "43.0",
         "103.0",
         "14.0",
         "13.0",
         "46.0",
         "0.87",
         "107.1",
         "0.0",
         "14.4",
         "25.0"
        ],
        [
         "2",
         "0",
         "61",
         "0",
         "0",
         "0",
         "0",
         "0",
         "0",
         "171",
         "91.1",
         "31.2",
         "47.2",
         "20.1",
         "27.1",
         "43.0",
         "27.3",
         "72.67",
         "16.35",
         "15",
         "3.3",
         "62.9",
         "41.7",
         "24.9",
         "16.2",
         "34.0",
         "0",
         "103.0",
         "179.0",
         "124.0",
         "43.0",
         "69.0",
         "18.0",
         "14.0",
         "66.0",
         "1.25",
         "65.51",
         "0.0",
         "16.2",
         "30.2"
        ],
        [
         "3",
         "0",
         "41",
         "0",
         "0",
         "0",
         "0",
         "0",
         "0",
         "168",
         "67.7",
         "24.0",
         "41.4",
         "17.0",
         "24.4",
         "41.0",
         "15.8",
         "84.19",
         "16.9",
         "6",
         "2.9",
         "54.1",
         "9.0",
         "10.7",
         "6.5",
         "29.2",
         "1",
         "69.0",
         "173.0",
         "73.0",
         "59.0",
         "53.0",
         "20.0",
         "12.0",
         "34.0",
         "1.02",
         "94.1",
         "0.0",
         "15.4",
         "35.4"
        ],
        [
         "4",
         "0",
         "42",
         "0",
         "0",
         "0",
         "0",
         "0",
         "0",
         "178",
         "89.6",
         "28.3",
         "51.4",
         "20.0",
         "31.4",
         "39.0",
         "20.0",
         "80.02",
         "16.81",
         "8",
         "3.5",
         "68.2",
         "28.6",
         "17.9",
         "10.4",
         "37.4",
         "2",
         "109.0",
         "205.0",
         "154.0",
         "30.0",
         "326.0",
         "27.0",
         "54.0",
         "71.0",
         "0.82",
         "112.47",
         "0.0",
         "16.8",
         "40.6"
        ]
       ],
       "shape": {
        "columns": 39,
        "rows": 5
       }
      },
      "text/html": [
       "<div>\n",
       "<style scoped>\n",
       "    .dataframe tbody tr th:only-of-type {\n",
       "        vertical-align: middle;\n",
       "    }\n",
       "\n",
       "    .dataframe tbody tr th {\n",
       "        vertical-align: top;\n",
       "    }\n",
       "\n",
       "    .dataframe thead th {\n",
       "        text-align: right;\n",
       "    }\n",
       "</style>\n",
       "<table border=\"1\" class=\"dataframe\">\n",
       "  <thead>\n",
       "    <tr style=\"text-align: right;\">\n",
       "      <th></th>\n",
       "      <th>Gallstone Status</th>\n",
       "      <th>Age</th>\n",
       "      <th>Gender</th>\n",
       "      <th>Comorbidity</th>\n",
       "      <th>Coronary Artery Disease (CAD)</th>\n",
       "      <th>Hypothyroidism</th>\n",
       "      <th>Hyperlipidemia</th>\n",
       "      <th>Diabetes Mellitus (DM)</th>\n",
       "      <th>Height</th>\n",
       "      <th>Weight</th>\n",
       "      <th>...</th>\n",
       "      <th>High Density Lipoprotein (HDL)</th>\n",
       "      <th>Triglyceride</th>\n",
       "      <th>Aspartat Aminotransferaz (AST)</th>\n",
       "      <th>Alanin Aminotransferaz (ALT)</th>\n",
       "      <th>Alkaline Phosphatase (ALP)</th>\n",
       "      <th>Creatinine</th>\n",
       "      <th>Glomerular Filtration Rate (GFR)</th>\n",
       "      <th>C-Reactive Protein (CRP)</th>\n",
       "      <th>Hemoglobin (HGB)</th>\n",
       "      <th>Vitamin D</th>\n",
       "    </tr>\n",
       "  </thead>\n",
       "  <tbody>\n",
       "    <tr>\n",
       "      <th>0</th>\n",
       "      <td>0</td>\n",
       "      <td>50</td>\n",
       "      <td>0</td>\n",
       "      <td>0</td>\n",
       "      <td>0</td>\n",
       "      <td>0</td>\n",
       "      <td>0</td>\n",
       "      <td>0</td>\n",
       "      <td>185</td>\n",
       "      <td>92.8</td>\n",
       "      <td>...</td>\n",
       "      <td>40.0</td>\n",
       "      <td>134.0</td>\n",
       "      <td>20.0</td>\n",
       "      <td>22.0</td>\n",
       "      <td>87.0</td>\n",
       "      <td>0.82</td>\n",
       "      <td>112.47</td>\n",
       "      <td>0.0</td>\n",
       "      <td>16.0</td>\n",
       "      <td>33.0</td>\n",
       "    </tr>\n",
       "    <tr>\n",
       "      <th>1</th>\n",
       "      <td>0</td>\n",
       "      <td>47</td>\n",
       "      <td>0</td>\n",
       "      <td>1</td>\n",
       "      <td>0</td>\n",
       "      <td>0</td>\n",
       "      <td>0</td>\n",
       "      <td>0</td>\n",
       "      <td>176</td>\n",
       "      <td>94.5</td>\n",
       "      <td>...</td>\n",
       "      <td>43.0</td>\n",
       "      <td>103.0</td>\n",
       "      <td>14.0</td>\n",
       "      <td>13.0</td>\n",
       "      <td>46.0</td>\n",
       "      <td>0.87</td>\n",
       "      <td>107.10</td>\n",
       "      <td>0.0</td>\n",
       "      <td>14.4</td>\n",
       "      <td>25.0</td>\n",
       "    </tr>\n",
       "    <tr>\n",
       "      <th>2</th>\n",
       "      <td>0</td>\n",
       "      <td>61</td>\n",
       "      <td>0</td>\n",
       "      <td>0</td>\n",
       "      <td>0</td>\n",
       "      <td>0</td>\n",
       "      <td>0</td>\n",
       "      <td>0</td>\n",
       "      <td>171</td>\n",
       "      <td>91.1</td>\n",
       "      <td>...</td>\n",
       "      <td>43.0</td>\n",
       "      <td>69.0</td>\n",
       "      <td>18.0</td>\n",
       "      <td>14.0</td>\n",
       "      <td>66.0</td>\n",
       "      <td>1.25</td>\n",
       "      <td>65.51</td>\n",
       "      <td>0.0</td>\n",
       "      <td>16.2</td>\n",
       "      <td>30.2</td>\n",
       "    </tr>\n",
       "    <tr>\n",
       "      <th>3</th>\n",
       "      <td>0</td>\n",
       "      <td>41</td>\n",
       "      <td>0</td>\n",
       "      <td>0</td>\n",
       "      <td>0</td>\n",
       "      <td>0</td>\n",
       "      <td>0</td>\n",
       "      <td>0</td>\n",
       "      <td>168</td>\n",
       "      <td>67.7</td>\n",
       "      <td>...</td>\n",
       "      <td>59.0</td>\n",
       "      <td>53.0</td>\n",
       "      <td>20.0</td>\n",
       "      <td>12.0</td>\n",
       "      <td>34.0</td>\n",
       "      <td>1.02</td>\n",
       "      <td>94.10</td>\n",
       "      <td>0.0</td>\n",
       "      <td>15.4</td>\n",
       "      <td>35.4</td>\n",
       "    </tr>\n",
       "    <tr>\n",
       "      <th>4</th>\n",
       "      <td>0</td>\n",
       "      <td>42</td>\n",
       "      <td>0</td>\n",
       "      <td>0</td>\n",
       "      <td>0</td>\n",
       "      <td>0</td>\n",
       "      <td>0</td>\n",
       "      <td>0</td>\n",
       "      <td>178</td>\n",
       "      <td>89.6</td>\n",
       "      <td>...</td>\n",
       "      <td>30.0</td>\n",
       "      <td>326.0</td>\n",
       "      <td>27.0</td>\n",
       "      <td>54.0</td>\n",
       "      <td>71.0</td>\n",
       "      <td>0.82</td>\n",
       "      <td>112.47</td>\n",
       "      <td>0.0</td>\n",
       "      <td>16.8</td>\n",
       "      <td>40.6</td>\n",
       "    </tr>\n",
       "  </tbody>\n",
       "</table>\n",
       "<p>5 rows × 39 columns</p>\n",
       "</div>"
      ],
      "text/plain": [
       "   Gallstone Status  Age  Gender  Comorbidity  Coronary Artery Disease (CAD)  \\\n",
       "0                 0   50       0            0                              0   \n",
       "1                 0   47       0            1                              0   \n",
       "2                 0   61       0            0                              0   \n",
       "3                 0   41       0            0                              0   \n",
       "4                 0   42       0            0                              0   \n",
       "\n",
       "   Hypothyroidism  Hyperlipidemia  Diabetes Mellitus (DM)  Height  Weight  \\\n",
       "0               0               0                       0     185    92.8   \n",
       "1               0               0                       0     176    94.5   \n",
       "2               0               0                       0     171    91.1   \n",
       "3               0               0                       0     168    67.7   \n",
       "4               0               0                       0     178    89.6   \n",
       "\n",
       "   ...  High Density Lipoprotein (HDL)  Triglyceride  \\\n",
       "0  ...                            40.0         134.0   \n",
       "1  ...                            43.0         103.0   \n",
       "2  ...                            43.0          69.0   \n",
       "3  ...                            59.0          53.0   \n",
       "4  ...                            30.0         326.0   \n",
       "\n",
       "   Aspartat Aminotransferaz (AST)  Alanin Aminotransferaz (ALT)  \\\n",
       "0                            20.0                          22.0   \n",
       "1                            14.0                          13.0   \n",
       "2                            18.0                          14.0   \n",
       "3                            20.0                          12.0   \n",
       "4                            27.0                          54.0   \n",
       "\n",
       "   Alkaline Phosphatase (ALP)  Creatinine  Glomerular Filtration Rate (GFR)  \\\n",
       "0                        87.0        0.82                            112.47   \n",
       "1                        46.0        0.87                            107.10   \n",
       "2                        66.0        1.25                             65.51   \n",
       "3                        34.0        1.02                             94.10   \n",
       "4                        71.0        0.82                            112.47   \n",
       "\n",
       "   C-Reactive Protein (CRP)  Hemoglobin (HGB)  Vitamin D  \n",
       "0                       0.0              16.0       33.0  \n",
       "1                       0.0              14.4       25.0  \n",
       "2                       0.0              16.2       30.2  \n",
       "3                       0.0              15.4       35.4  \n",
       "4                       0.0              16.8       40.6  \n",
       "\n",
       "[5 rows x 39 columns]"
      ]
     },
     "execution_count": 22,
     "metadata": {},
     "output_type": "execute_result"
    }
   ],
   "source": [
    "df = pd.read_csv(path_dataset_file)\n",
    "df.head()"
   ]
  }
 ],
 "metadata": {
  "kernelspec": {
   "display_name": ".venv (3.13.5)",
   "language": "python",
   "name": "python3"
  },
  "language_info": {
   "codemirror_mode": {
    "name": "ipython",
    "version": 3
   },
   "file_extension": ".py",
   "mimetype": "text/x-python",
   "name": "python",
   "nbconvert_exporter": "python",
   "pygments_lexer": "ipython3",
   "version": "3.13.5"
  }
 },
 "nbformat": 4,
 "nbformat_minor": 5
}
