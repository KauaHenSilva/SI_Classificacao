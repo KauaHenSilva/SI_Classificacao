{
  "cells": [
    {
      "cell_type": "markdown",
      "id": "78cd03bc",
      "metadata": {},
      "source": [
        "# Setup"
      ]
    },
    {
      "cell_type": "code",
      "execution_count": 45,
      "id": "0fb687b3",
      "metadata": {
        "id": "0fb687b3"
      },
      "outputs": [
        {
          "name": "stdout",
          "output_type": "stream",
          "text": [
            "Note: you may need to restart the kernel to use updated packages.\n"
          ]
        },
        {
          "name": "stderr",
          "output_type": "stream",
          "text": [
            "\n",
            "[notice] A new release of pip is available: 25.1.1 -> 25.2\n",
            "[notice] To update, run: python.exe -m pip install --upgrade pip\n"
          ]
        }
      ],
      "source": [
        "%pip install -q pandas scikit-learn numpy"
      ]
    },
    {
      "cell_type": "code",
      "execution_count": 46,
      "id": "cace5540",
      "metadata": {
        "id": "cace5540"
      },
      "outputs": [],
      "source": [
        "import os\n",
        "import zipfile\n",
        "import pandas as pd\n",
        "import numpy as np\n",
        "from sklearn.model_selection import StratifiedKFold, cross_validate\n",
        "from sklearn.pipeline import make_pipeline\n",
        "from sklearn.preprocessing import StandardScaler\n",
        "from sklearn.neighbors import KNeighborsClassifier\n",
        "from sklearn.model_selection import train_test_split,LeaveOneOut\n",
        "from sklearn.metrics import accuracy_score, precision_score, recall_score, f1_score, cohen_kappa_score"
      ]
    },
    {
      "cell_type": "code",
      "execution_count": 47,
      "id": "6da7502d",
      "metadata": {
        "id": "6da7502d"
      },
      "outputs": [],
      "source": [
        "path_data = \"dataset\"\n",
        "path_dataset_download = \"dataset/gallstone-1.zip\"\n",
        "path_dataset_file = \"dataset/Gallstone_csv.csv\"\n",
        "\n",
        "os.makedirs(path_data, exist_ok=True)\n",
        "if not os.path.exists(path_dataset_download):\n",
        "    !curl -L \"https://www.kaggle.com/api/v1/datasets/download/yasserhessein/gallstone\" -o \"{path_dataset_download}\"\n",
        "zipfile.ZipFile(path_dataset_download, 'r').extractall(path_data)"
      ]
    },
    {
      "cell_type": "code",
      "execution_count": 48,
      "id": "c02e4b52",
      "metadata": {
        "colab": {
          "base_uri": "https://localhost:8080/",
          "height": 307
        },
        "id": "c02e4b52",
        "outputId": "e6b157b1-950b-4ce1-8f60-de7c9f91b715"
      },
      "outputs": [
        {
          "data": {
            "application/vnd.microsoft.datawrangler.viewer.v0+json": {
              "columns": [
                {
                  "name": "index",
                  "rawType": "int64",
                  "type": "integer"
                },
                {
                  "name": "Gallstone Status",
                  "rawType": "int64",
                  "type": "integer"
                },
                {
                  "name": "Age",
                  "rawType": "int64",
                  "type": "integer"
                },
                {
                  "name": "Gender",
                  "rawType": "int64",
                  "type": "integer"
                },
                {
                  "name": "Comorbidity",
                  "rawType": "int64",
                  "type": "integer"
                },
                {
                  "name": "Coronary Artery Disease (CAD)",
                  "rawType": "int64",
                  "type": "integer"
                },
                {
                  "name": "Hypothyroidism",
                  "rawType": "int64",
                  "type": "integer"
                },
                {
                  "name": "Hyperlipidemia",
                  "rawType": "int64",
                  "type": "integer"
                },
                {
                  "name": "Diabetes Mellitus (DM)",
                  "rawType": "int64",
                  "type": "integer"
                },
                {
                  "name": "Height",
                  "rawType": "int64",
                  "type": "integer"
                },
                {
                  "name": "Weight",
                  "rawType": "float64",
                  "type": "float"
                },
                {
                  "name": "Body Mass Index (BMI)",
                  "rawType": "float64",
                  "type": "float"
                },
                {
                  "name": "Total Body Water (TBW)",
                  "rawType": "float64",
                  "type": "float"
                },
                {
                  "name": "Extracellular Water (ECW)",
                  "rawType": "float64",
                  "type": "float"
                },
                {
                  "name": "Intracellular Water (ICW)",
                  "rawType": "float64",
                  "type": "float"
                },
                {
                  "name": "Extracellular Fluid/Total Body Water (ECF/TBW)",
                  "rawType": "float64",
                  "type": "float"
                },
                {
                  "name": "Total Body Fat Ratio (TBFR) (%)",
                  "rawType": "float64",
                  "type": "float"
                },
                {
                  "name": "Lean Mass (LM) (%)",
                  "rawType": "float64",
                  "type": "float"
                },
                {
                  "name": "Body Protein Content (Protein) (%)",
                  "rawType": "float64",
                  "type": "float"
                },
                {
                  "name": "Visceral Fat Rating (VFR)",
                  "rawType": "int64",
                  "type": "integer"
                },
                {
                  "name": "Bone Mass (BM)",
                  "rawType": "float64",
                  "type": "float"
                },
                {
                  "name": "Muscle Mass (MM)",
                  "rawType": "float64",
                  "type": "float"
                },
                {
                  "name": "Obesity (%)",
                  "rawType": "float64",
                  "type": "float"
                },
                {
                  "name": "Total Fat Content (TFC)",
                  "rawType": "float64",
                  "type": "float"
                },
                {
                  "name": "Visceral Fat Area (VFA)",
                  "rawType": "float64",
                  "type": "float"
                },
                {
                  "name": "Visceral Muscle Area (VMA) (Kg)",
                  "rawType": "float64",
                  "type": "float"
                },
                {
                  "name": "Hepatic Fat Accumulation (HFA)",
                  "rawType": "int64",
                  "type": "integer"
                },
                {
                  "name": "Glucose",
                  "rawType": "float64",
                  "type": "float"
                },
                {
                  "name": "Total Cholesterol (TC)",
                  "rawType": "float64",
                  "type": "float"
                },
                {
                  "name": "Low Density Lipoprotein (LDL)",
                  "rawType": "float64",
                  "type": "float"
                },
                {
                  "name": "High Density Lipoprotein (HDL)",
                  "rawType": "float64",
                  "type": "float"
                },
                {
                  "name": "Triglyceride",
                  "rawType": "float64",
                  "type": "float"
                },
                {
                  "name": "Aspartat Aminotransferaz (AST)",
                  "rawType": "float64",
                  "type": "float"
                },
                {
                  "name": "Alanin Aminotransferaz (ALT)",
                  "rawType": "float64",
                  "type": "float"
                },
                {
                  "name": "Alkaline Phosphatase (ALP)",
                  "rawType": "float64",
                  "type": "float"
                },
                {
                  "name": "Creatinine",
                  "rawType": "float64",
                  "type": "float"
                },
                {
                  "name": "Glomerular Filtration Rate (GFR)",
                  "rawType": "float64",
                  "type": "float"
                },
                {
                  "name": "C-Reactive Protein (CRP)",
                  "rawType": "float64",
                  "type": "float"
                },
                {
                  "name": "Hemoglobin (HGB)",
                  "rawType": "float64",
                  "type": "float"
                },
                {
                  "name": "Vitamin D",
                  "rawType": "float64",
                  "type": "float"
                }
              ],
              "ref": "ae4725c0-1af7-4467-9f29-3fbbb66ffcc0",
              "rows": [
                [
                  "0",
                  "0",
                  "50",
                  "0",
                  "0",
                  "0",
                  "0",
                  "0",
                  "0",
                  "185",
                  "92.8",
                  "27.1",
                  "52.9",
                  "21.2",
                  "31.7",
                  "40.0",
                  "19.2",
                  "80.84",
                  "18.88",
                  "9",
                  "3.7",
                  "71.4",
                  "23.4",
                  "17.8",
                  "10.6",
                  "39.7",
                  "0",
                  "102.0",
                  "250.0",
                  "175.0",
                  "40.0",
                  "134.0",
                  "20.0",
                  "22.0",
                  "87.0",
                  "0.82",
                  "112.47",
                  "0.0",
                  "16.0",
                  "33.0"
                ],
                [
                  "1",
                  "0",
                  "47",
                  "0",
                  "1",
                  "0",
                  "0",
                  "0",
                  "0",
                  "176",
                  "94.5",
                  "30.5",
                  "43.1",
                  "19.5",
                  "23.6",
                  "45.0",
                  "32.8",
                  "67.2",
                  "16.68",
                  "15",
                  "3.2",
                  "60.3",
                  "38.8",
                  "31.0",
                  "18.4",
                  "32.7",
                  "0",
                  "94.0",
                  "172.0",
                  "108.0",
                  "43.0",
                  "103.0",
                  "14.0",
                  "13.0",
                  "46.0",
                  "0.87",
                  "107.1",
                  "0.0",
                  "14.4",
                  "25.0"
                ],
                [
                  "2",
                  "0",
                  "61",
                  "0",
                  "0",
                  "0",
                  "0",
                  "0",
                  "0",
                  "171",
                  "91.1",
                  "31.2",
                  "47.2",
                  "20.1",
                  "27.1",
                  "43.0",
                  "27.3",
                  "72.67",
                  "16.35",
                  "15",
                  "3.3",
                  "62.9",
                  "41.7",
                  "24.9",
                  "16.2",
                  "34.0",
                  "0",
                  "103.0",
                  "179.0",
                  "124.0",
                  "43.0",
                  "69.0",
                  "18.0",
                  "14.0",
                  "66.0",
                  "1.25",
                  "65.51",
                  "0.0",
                  "16.2",
                  "30.2"
                ],
                [
                  "3",
                  "0",
                  "41",
                  "0",
                  "0",
                  "0",
                  "0",
                  "0",
                  "0",
                  "168",
                  "67.7",
                  "24.0",
                  "41.4",
                  "17.0",
                  "24.4",
                  "41.0",
                  "15.8",
                  "84.19",
                  "16.9",
                  "6",
                  "2.9",
                  "54.1",
                  "9.0",
                  "10.7",
                  "6.5",
                  "29.2",
                  "1",
                  "69.0",
                  "173.0",
                  "73.0",
                  "59.0",
                  "53.0",
                  "20.0",
                  "12.0",
                  "34.0",
                  "1.02",
                  "94.1",
                  "0.0",
                  "15.4",
                  "35.4"
                ],
                [
                  "4",
                  "0",
                  "42",
                  "0",
                  "0",
                  "0",
                  "0",
                  "0",
                  "0",
                  "178",
                  "89.6",
                  "28.3",
                  "51.4",
                  "20.0",
                  "31.4",
                  "39.0",
                  "20.0",
                  "80.02",
                  "16.81",
                  "8",
                  "3.5",
                  "68.2",
                  "28.6",
                  "17.9",
                  "10.4",
                  "37.4",
                  "2",
                  "109.0",
                  "205.0",
                  "154.0",
                  "30.0",
                  "326.0",
                  "27.0",
                  "54.0",
                  "71.0",
                  "0.82",
                  "112.47",
                  "0.0",
                  "16.8",
                  "40.6"
                ]
              ],
              "shape": {
                "columns": 39,
                "rows": 5
              }
            },
            "text/html": [
              "<div>\n",
              "<style scoped>\n",
              "    .dataframe tbody tr th:only-of-type {\n",
              "        vertical-align: middle;\n",
              "    }\n",
              "\n",
              "    .dataframe tbody tr th {\n",
              "        vertical-align: top;\n",
              "    }\n",
              "\n",
              "    .dataframe thead th {\n",
              "        text-align: right;\n",
              "    }\n",
              "</style>\n",
              "<table border=\"1\" class=\"dataframe\">\n",
              "  <thead>\n",
              "    <tr style=\"text-align: right;\">\n",
              "      <th></th>\n",
              "      <th>Gallstone Status</th>\n",
              "      <th>Age</th>\n",
              "      <th>Gender</th>\n",
              "      <th>Comorbidity</th>\n",
              "      <th>Coronary Artery Disease (CAD)</th>\n",
              "      <th>Hypothyroidism</th>\n",
              "      <th>Hyperlipidemia</th>\n",
              "      <th>Diabetes Mellitus (DM)</th>\n",
              "      <th>Height</th>\n",
              "      <th>Weight</th>\n",
              "      <th>...</th>\n",
              "      <th>High Density Lipoprotein (HDL)</th>\n",
              "      <th>Triglyceride</th>\n",
              "      <th>Aspartat Aminotransferaz (AST)</th>\n",
              "      <th>Alanin Aminotransferaz (ALT)</th>\n",
              "      <th>Alkaline Phosphatase (ALP)</th>\n",
              "      <th>Creatinine</th>\n",
              "      <th>Glomerular Filtration Rate (GFR)</th>\n",
              "      <th>C-Reactive Protein (CRP)</th>\n",
              "      <th>Hemoglobin (HGB)</th>\n",
              "      <th>Vitamin D</th>\n",
              "    </tr>\n",
              "  </thead>\n",
              "  <tbody>\n",
              "    <tr>\n",
              "      <th>0</th>\n",
              "      <td>0</td>\n",
              "      <td>50</td>\n",
              "      <td>0</td>\n",
              "      <td>0</td>\n",
              "      <td>0</td>\n",
              "      <td>0</td>\n",
              "      <td>0</td>\n",
              "      <td>0</td>\n",
              "      <td>185</td>\n",
              "      <td>92.8</td>\n",
              "      <td>...</td>\n",
              "      <td>40.0</td>\n",
              "      <td>134.0</td>\n",
              "      <td>20.0</td>\n",
              "      <td>22.0</td>\n",
              "      <td>87.0</td>\n",
              "      <td>0.82</td>\n",
              "      <td>112.47</td>\n",
              "      <td>0.0</td>\n",
              "      <td>16.0</td>\n",
              "      <td>33.0</td>\n",
              "    </tr>\n",
              "    <tr>\n",
              "      <th>1</th>\n",
              "      <td>0</td>\n",
              "      <td>47</td>\n",
              "      <td>0</td>\n",
              "      <td>1</td>\n",
              "      <td>0</td>\n",
              "      <td>0</td>\n",
              "      <td>0</td>\n",
              "      <td>0</td>\n",
              "      <td>176</td>\n",
              "      <td>94.5</td>\n",
              "      <td>...</td>\n",
              "      <td>43.0</td>\n",
              "      <td>103.0</td>\n",
              "      <td>14.0</td>\n",
              "      <td>13.0</td>\n",
              "      <td>46.0</td>\n",
              "      <td>0.87</td>\n",
              "      <td>107.10</td>\n",
              "      <td>0.0</td>\n",
              "      <td>14.4</td>\n",
              "      <td>25.0</td>\n",
              "    </tr>\n",
              "    <tr>\n",
              "      <th>2</th>\n",
              "      <td>0</td>\n",
              "      <td>61</td>\n",
              "      <td>0</td>\n",
              "      <td>0</td>\n",
              "      <td>0</td>\n",
              "      <td>0</td>\n",
              "      <td>0</td>\n",
              "      <td>0</td>\n",
              "      <td>171</td>\n",
              "      <td>91.1</td>\n",
              "      <td>...</td>\n",
              "      <td>43.0</td>\n",
              "      <td>69.0</td>\n",
              "      <td>18.0</td>\n",
              "      <td>14.0</td>\n",
              "      <td>66.0</td>\n",
              "      <td>1.25</td>\n",
              "      <td>65.51</td>\n",
              "      <td>0.0</td>\n",
              "      <td>16.2</td>\n",
              "      <td>30.2</td>\n",
              "    </tr>\n",
              "    <tr>\n",
              "      <th>3</th>\n",
              "      <td>0</td>\n",
              "      <td>41</td>\n",
              "      <td>0</td>\n",
              "      <td>0</td>\n",
              "      <td>0</td>\n",
              "      <td>0</td>\n",
              "      <td>0</td>\n",
              "      <td>0</td>\n",
              "      <td>168</td>\n",
              "      <td>67.7</td>\n",
              "      <td>...</td>\n",
              "      <td>59.0</td>\n",
              "      <td>53.0</td>\n",
              "      <td>20.0</td>\n",
              "      <td>12.0</td>\n",
              "      <td>34.0</td>\n",
              "      <td>1.02</td>\n",
              "      <td>94.10</td>\n",
              "      <td>0.0</td>\n",
              "      <td>15.4</td>\n",
              "      <td>35.4</td>\n",
              "    </tr>\n",
              "    <tr>\n",
              "      <th>4</th>\n",
              "      <td>0</td>\n",
              "      <td>42</td>\n",
              "      <td>0</td>\n",
              "      <td>0</td>\n",
              "      <td>0</td>\n",
              "      <td>0</td>\n",
              "      <td>0</td>\n",
              "      <td>0</td>\n",
              "      <td>178</td>\n",
              "      <td>89.6</td>\n",
              "      <td>...</td>\n",
              "      <td>30.0</td>\n",
              "      <td>326.0</td>\n",
              "      <td>27.0</td>\n",
              "      <td>54.0</td>\n",
              "      <td>71.0</td>\n",
              "      <td>0.82</td>\n",
              "      <td>112.47</td>\n",
              "      <td>0.0</td>\n",
              "      <td>16.8</td>\n",
              "      <td>40.6</td>\n",
              "    </tr>\n",
              "  </tbody>\n",
              "</table>\n",
              "<p>5 rows × 39 columns</p>\n",
              "</div>"
            ],
            "text/plain": [
              "   Gallstone Status  Age  Gender  Comorbidity  Coronary Artery Disease (CAD)  \\\n",
              "0                 0   50       0            0                              0   \n",
              "1                 0   47       0            1                              0   \n",
              "2                 0   61       0            0                              0   \n",
              "3                 0   41       0            0                              0   \n",
              "4                 0   42       0            0                              0   \n",
              "\n",
              "   Hypothyroidism  Hyperlipidemia  Diabetes Mellitus (DM)  Height  Weight  \\\n",
              "0               0               0                       0     185    92.8   \n",
              "1               0               0                       0     176    94.5   \n",
              "2               0               0                       0     171    91.1   \n",
              "3               0               0                       0     168    67.7   \n",
              "4               0               0                       0     178    89.6   \n",
              "\n",
              "   ...  High Density Lipoprotein (HDL)  Triglyceride  \\\n",
              "0  ...                            40.0         134.0   \n",
              "1  ...                            43.0         103.0   \n",
              "2  ...                            43.0          69.0   \n",
              "3  ...                            59.0          53.0   \n",
              "4  ...                            30.0         326.0   \n",
              "\n",
              "   Aspartat Aminotransferaz (AST)  Alanin Aminotransferaz (ALT)  \\\n",
              "0                            20.0                          22.0   \n",
              "1                            14.0                          13.0   \n",
              "2                            18.0                          14.0   \n",
              "3                            20.0                          12.0   \n",
              "4                            27.0                          54.0   \n",
              "\n",
              "   Alkaline Phosphatase (ALP)  Creatinine  Glomerular Filtration Rate (GFR)  \\\n",
              "0                        87.0        0.82                            112.47   \n",
              "1                        46.0        0.87                            107.10   \n",
              "2                        66.0        1.25                             65.51   \n",
              "3                        34.0        1.02                             94.10   \n",
              "4                        71.0        0.82                            112.47   \n",
              "\n",
              "   C-Reactive Protein (CRP)  Hemoglobin (HGB)  Vitamin D  \n",
              "0                       0.0              16.0       33.0  \n",
              "1                       0.0              14.4       25.0  \n",
              "2                       0.0              16.2       30.2  \n",
              "3                       0.0              15.4       35.4  \n",
              "4                       0.0              16.8       40.6  \n",
              "\n",
              "[5 rows x 39 columns]"
            ]
          },
          "execution_count": 48,
          "metadata": {},
          "output_type": "execute_result"
        }
      ],
      "source": [
        "df = pd.read_csv(path_dataset_file)\n",
        "df.head()"
      ]
    },
    {
      "cell_type": "code",
      "execution_count": 49,
      "id": "61d36687",
      "metadata": {
        "colab": {
          "base_uri": "https://localhost:8080/"
        },
        "id": "61d36687",
        "outputId": "ed1df908-7de0-472c-ce6c-e0caf0dc424c"
      },
      "outputs": [
        {
          "name": "stdout",
          "output_type": "stream",
          "text": [
            "<class 'pandas.core.frame.DataFrame'>\n",
            "RangeIndex: 319 entries, 0 to 318\n",
            "Data columns (total 39 columns):\n",
            " #   Column                                          Non-Null Count  Dtype  \n",
            "---  ------                                          --------------  -----  \n",
            " 0   Gallstone Status                                319 non-null    int64  \n",
            " 1   Age                                             319 non-null    int64  \n",
            " 2   Gender                                          319 non-null    int64  \n",
            " 3   Comorbidity                                     319 non-null    int64  \n",
            " 4   Coronary Artery Disease (CAD)                   319 non-null    int64  \n",
            " 5   Hypothyroidism                                  319 non-null    int64  \n",
            " 6   Hyperlipidemia                                  319 non-null    int64  \n",
            " 7   Diabetes Mellitus (DM)                          319 non-null    int64  \n",
            " 8   Height                                          319 non-null    int64  \n",
            " 9   Weight                                          319 non-null    float64\n",
            " 10  Body Mass Index (BMI)                           319 non-null    float64\n",
            " 11  Total Body Water (TBW)                          319 non-null    float64\n",
            " 12  Extracellular Water (ECW)                       319 non-null    float64\n",
            " 13  Intracellular Water (ICW)                       319 non-null    float64\n",
            " 14  Extracellular Fluid/Total Body Water (ECF/TBW)  319 non-null    float64\n",
            " 15  Total Body Fat Ratio (TBFR) (%)                 319 non-null    float64\n",
            " 16  Lean Mass (LM) (%)                              319 non-null    float64\n",
            " 17  Body Protein Content (Protein) (%)              319 non-null    float64\n",
            " 18  Visceral Fat Rating (VFR)                       319 non-null    int64  \n",
            " 19  Bone Mass (BM)                                  319 non-null    float64\n",
            " 20  Muscle Mass (MM)                                319 non-null    float64\n",
            " 21  Obesity (%)                                     319 non-null    float64\n",
            " 22  Total Fat Content (TFC)                         319 non-null    float64\n",
            " 23  Visceral Fat Area (VFA)                         319 non-null    float64\n",
            " 24  Visceral Muscle Area (VMA) (Kg)                 319 non-null    float64\n",
            " 25  Hepatic Fat Accumulation (HFA)                  319 non-null    int64  \n",
            " 26  Glucose                                         319 non-null    float64\n",
            " 27  Total Cholesterol (TC)                          319 non-null    float64\n",
            " 28  Low Density Lipoprotein (LDL)                   319 non-null    float64\n",
            " 29  High Density Lipoprotein (HDL)                  319 non-null    float64\n",
            " 30  Triglyceride                                    319 non-null    float64\n",
            " 31  Aspartat Aminotransferaz (AST)                  319 non-null    float64\n",
            " 32  Alanin Aminotransferaz (ALT)                    319 non-null    float64\n",
            " 33  Alkaline Phosphatase (ALP)                      319 non-null    float64\n",
            " 34  Creatinine                                      319 non-null    float64\n",
            " 35  Glomerular Filtration Rate (GFR)                319 non-null    float64\n",
            " 36  C-Reactive Protein (CRP)                        319 non-null    float64\n",
            " 37  Hemoglobin (HGB)                                319 non-null    float64\n",
            " 38  Vitamin D                                       319 non-null    float64\n",
            "dtypes: float64(28), int64(11)\n",
            "memory usage: 97.3 KB\n"
          ]
        }
      ],
      "source": [
        "df.info()"
      ]
    },
    {
      "cell_type": "code",
      "execution_count": 50,
      "id": "2fdfe991",
      "metadata": {},
      "outputs": [
        {
          "data": {
            "application/vnd.microsoft.datawrangler.viewer.v0+json": {
              "columns": [
                {
                  "name": "index",
                  "rawType": "object",
                  "type": "string"
                },
                {
                  "name": "Gallstone Status",
                  "rawType": "float64",
                  "type": "float"
                },
                {
                  "name": "Age",
                  "rawType": "float64",
                  "type": "float"
                },
                {
                  "name": "Gender",
                  "rawType": "float64",
                  "type": "float"
                },
                {
                  "name": "Comorbidity",
                  "rawType": "float64",
                  "type": "float"
                },
                {
                  "name": "Coronary Artery Disease (CAD)",
                  "rawType": "float64",
                  "type": "float"
                },
                {
                  "name": "Hypothyroidism",
                  "rawType": "float64",
                  "type": "float"
                },
                {
                  "name": "Hyperlipidemia",
                  "rawType": "float64",
                  "type": "float"
                },
                {
                  "name": "Diabetes Mellitus (DM)",
                  "rawType": "float64",
                  "type": "float"
                },
                {
                  "name": "Height",
                  "rawType": "float64",
                  "type": "float"
                },
                {
                  "name": "Weight",
                  "rawType": "float64",
                  "type": "float"
                },
                {
                  "name": "Body Mass Index (BMI)",
                  "rawType": "float64",
                  "type": "float"
                },
                {
                  "name": "Total Body Water (TBW)",
                  "rawType": "float64",
                  "type": "float"
                },
                {
                  "name": "Extracellular Water (ECW)",
                  "rawType": "float64",
                  "type": "float"
                },
                {
                  "name": "Intracellular Water (ICW)",
                  "rawType": "float64",
                  "type": "float"
                },
                {
                  "name": "Extracellular Fluid/Total Body Water (ECF/TBW)",
                  "rawType": "float64",
                  "type": "float"
                },
                {
                  "name": "Total Body Fat Ratio (TBFR) (%)",
                  "rawType": "float64",
                  "type": "float"
                },
                {
                  "name": "Lean Mass (LM) (%)",
                  "rawType": "float64",
                  "type": "float"
                },
                {
                  "name": "Body Protein Content (Protein) (%)",
                  "rawType": "float64",
                  "type": "float"
                },
                {
                  "name": "Visceral Fat Rating (VFR)",
                  "rawType": "float64",
                  "type": "float"
                },
                {
                  "name": "Bone Mass (BM)",
                  "rawType": "float64",
                  "type": "float"
                },
                {
                  "name": "Muscle Mass (MM)",
                  "rawType": "float64",
                  "type": "float"
                },
                {
                  "name": "Obesity (%)",
                  "rawType": "float64",
                  "type": "float"
                },
                {
                  "name": "Total Fat Content (TFC)",
                  "rawType": "float64",
                  "type": "float"
                },
                {
                  "name": "Visceral Fat Area (VFA)",
                  "rawType": "float64",
                  "type": "float"
                },
                {
                  "name": "Visceral Muscle Area (VMA) (Kg)",
                  "rawType": "float64",
                  "type": "float"
                },
                {
                  "name": "Hepatic Fat Accumulation (HFA)",
                  "rawType": "float64",
                  "type": "float"
                },
                {
                  "name": "Glucose",
                  "rawType": "float64",
                  "type": "float"
                },
                {
                  "name": "Total Cholesterol (TC)",
                  "rawType": "float64",
                  "type": "float"
                },
                {
                  "name": "Low Density Lipoprotein (LDL)",
                  "rawType": "float64",
                  "type": "float"
                },
                {
                  "name": "High Density Lipoprotein (HDL)",
                  "rawType": "float64",
                  "type": "float"
                },
                {
                  "name": "Triglyceride",
                  "rawType": "float64",
                  "type": "float"
                },
                {
                  "name": "Aspartat Aminotransferaz (AST)",
                  "rawType": "float64",
                  "type": "float"
                },
                {
                  "name": "Alanin Aminotransferaz (ALT)",
                  "rawType": "float64",
                  "type": "float"
                },
                {
                  "name": "Alkaline Phosphatase (ALP)",
                  "rawType": "float64",
                  "type": "float"
                },
                {
                  "name": "Creatinine",
                  "rawType": "float64",
                  "type": "float"
                },
                {
                  "name": "Glomerular Filtration Rate (GFR)",
                  "rawType": "float64",
                  "type": "float"
                },
                {
                  "name": "C-Reactive Protein (CRP)",
                  "rawType": "float64",
                  "type": "float"
                },
                {
                  "name": "Hemoglobin (HGB)",
                  "rawType": "float64",
                  "type": "float"
                },
                {
                  "name": "Vitamin D",
                  "rawType": "float64",
                  "type": "float"
                }
              ],
              "ref": "3dfe0285-160e-4e82-b9d9-77c58c36a0a3",
              "rows": [
                [
                  "count",
                  "319.0",
                  "319.0",
                  "319.0",
                  "319.0",
                  "319.0",
                  "319.0",
                  "319.0",
                  "319.0",
                  "319.0",
                  "319.0",
                  "319.0",
                  "319.0",
                  "319.0",
                  "319.0",
                  "319.0",
                  "319.0",
                  "319.0",
                  "319.0",
                  "319.0",
                  "319.0",
                  "319.0",
                  "319.0",
                  "319.0",
                  "319.0",
                  "319.0",
                  "319.0",
                  "319.0",
                  "319.0",
                  "319.0",
                  "319.0",
                  "319.0",
                  "319.0",
                  "319.0",
                  "319.0",
                  "319.0",
                  "319.0",
                  "319.0",
                  "319.0",
                  "319.0"
                ],
                [
                  "mean",
                  "0.4952978056426332",
                  "48.06896551724138",
                  "0.49216300940438873",
                  "0.335423197492163",
                  "0.03761755485893417",
                  "0.02821316614420063",
                  "0.025078369905956112",
                  "0.13479623824451412",
                  "167.15673981191222",
                  "80.56489028213166",
                  "28.87711598746081",
                  "40.587774294670844",
                  "17.07115987460815",
                  "23.63448275862069",
                  "42.212037617554856",
                  "28.274984326018807",
                  "71.63824451410657",
                  "15.938808777429466",
                  "9.078369905956112",
                  "2.803291536050157",
                  "54.27304075235109",
                  "35.85012539184953",
                  "23.487774294670846",
                  "12.171598746081504",
                  "30.403448275862072",
                  "1.1504702194357366",
                  "108.68871473354231",
                  "203.49529780564262",
                  "126.65235109717868",
                  "49.47554858934169",
                  "144.5021630094044",
                  "21.684952978056426",
                  "26.855799373040753",
                  "73.11253918495298",
                  "0.8006112852664576",
                  "100.81890282131661",
                  "1.8538557993730407",
                  "14.418181818181816",
                  "21.401410658316614"
                ],
                [
                  "std",
                  "0.5007634005795049",
                  "12.114558365791892",
                  "0.5007240277445515",
                  "0.5173399484163964",
                  "0.190568409461192",
                  "0.16584149347549604",
                  "0.1566088449508242",
                  "0.3420423387465924",
                  "10.053029677164538",
                  "15.70906948422634",
                  "5.313706894860877",
                  "7.930234778807631",
                  "3.161857323191761",
                  "5.349331554566107",
                  "3.244470174860851",
                  "8.444416929523777",
                  "8.437597689521201",
                  "2.3347439675768626",
                  "4.332501402610252",
                  "0.5094671155074508",
                  "10.603833433812731",
                  "109.79971802032428",
                  "9.607606773996304",
                  "5.2621781141610615",
                  "4.460529578973865",
                  "1.0592174479764533",
                  "44.848714227274684",
                  "45.758500703419784",
                  "38.54117522664801",
                  "17.718700748736083",
                  "97.90449252204161",
                  "16.69760535069228",
                  "27.884412519264735",
                  "24.181069434662373",
                  "0.1764326425481379",
                  "16.97139591327551",
                  "4.989591212055104",
                  "1.7758154699152708",
                  "9.981658893033872"
                ],
                [
                  "min",
                  "0.0",
                  "20.0",
                  "0.0",
                  "0.0",
                  "0.0",
                  "0.0",
                  "0.0",
                  "0.0",
                  "145.0",
                  "42.9",
                  "17.4",
                  "13.0",
                  "9.0",
                  "13.8",
                  "29.23",
                  "6.3",
                  "48.99",
                  "5.56",
                  "1.0",
                  "1.4",
                  "4.7",
                  "0.4",
                  "3.1",
                  "0.9",
                  "18.9",
                  "0.0",
                  "69.0",
                  "60.0",
                  "11.0",
                  "25.0",
                  "1.39",
                  "8.0",
                  "3.0",
                  "7.0",
                  "0.46",
                  "10.6",
                  "0.0",
                  "8.5",
                  "3.5"
                ],
                [
                  "25%",
                  "0.0",
                  "38.5",
                  "0.0",
                  "0.0",
                  "0.0",
                  "0.0",
                  "0.0",
                  "0.0",
                  "159.5",
                  "69.6",
                  "25.25",
                  "34.2",
                  "14.8",
                  "19.3",
                  "40.075",
                  "22.025",
                  "65.165",
                  "14.465",
                  "6.0",
                  "2.4",
                  "45.8",
                  "13.9",
                  "17.0",
                  "8.57",
                  "27.25",
                  "0.0",
                  "92.0",
                  "172.0",
                  "100.5",
                  "40.0",
                  "83.0",
                  "15.0",
                  "14.25",
                  "58.0",
                  "0.65",
                  "94.17",
                  "0.0",
                  "13.3",
                  "13.25"
                ],
                [
                  "50%",
                  "0.0",
                  "49.0",
                  "0.0",
                  "0.0",
                  "0.0",
                  "0.0",
                  "0.0",
                  "0.0",
                  "168.0",
                  "78.8",
                  "28.3",
                  "39.8",
                  "17.1",
                  "23.0",
                  "42.0",
                  "27.82",
                  "72.11",
                  "15.87",
                  "9.0",
                  "2.8",
                  "53.9",
                  "25.6",
                  "22.6",
                  "11.59",
                  "30.40810811",
                  "1.0",
                  "98.0",
                  "198.0",
                  "122.0",
                  "46.5",
                  "119.0",
                  "18.0",
                  "19.0",
                  "71.0",
                  "0.79",
                  "104.0",
                  "0.215",
                  "14.4",
                  "22.0"
                ],
                [
                  "75%",
                  "1.0",
                  "56.0",
                  "1.0",
                  "1.0",
                  "0.0",
                  "0.0",
                  "0.0",
                  "0.0",
                  "175.0",
                  "91.25",
                  "31.85",
                  "47.0",
                  "19.4",
                  "27.55",
                  "44.0",
                  "34.81",
                  "77.85",
                  "17.43",
                  "12.0",
                  "3.2",
                  "62.6",
                  "41.75",
                  "28.55",
                  "15.1",
                  "33.8",
                  "2.0",
                  "109.0",
                  "233.0",
                  "151.0",
                  "56.0",
                  "172.0",
                  "23.0",
                  "30.0",
                  "86.0",
                  "0.92",
                  "110.745",
                  "1.615",
                  "15.7",
                  "28.060000000000002"
                ],
                [
                  "max",
                  "1.0",
                  "96.0",
                  "1.0",
                  "3.0",
                  "1.0",
                  "1.0",
                  "1.0",
                  "1.0",
                  "191.0",
                  "143.5",
                  "49.7",
                  "66.2",
                  "27.8",
                  "57.1",
                  "52.0",
                  "50.92",
                  "93.67",
                  "24.81",
                  "31.0",
                  "4.0",
                  "78.8",
                  "1954.0",
                  "62.5",
                  "41.0",
                  "41.1",
                  "4.0",
                  "575.0",
                  "360.0",
                  "293.0",
                  "273.0",
                  "838.0",
                  "195.0",
                  "372.0",
                  "197.0",
                  "1.46",
                  "132.0",
                  "43.4",
                  "18.8",
                  "53.1"
                ]
              ],
              "shape": {
                "columns": 39,
                "rows": 8
              }
            },
            "text/html": [
              "<div>\n",
              "<style scoped>\n",
              "    .dataframe tbody tr th:only-of-type {\n",
              "        vertical-align: middle;\n",
              "    }\n",
              "\n",
              "    .dataframe tbody tr th {\n",
              "        vertical-align: top;\n",
              "    }\n",
              "\n",
              "    .dataframe thead th {\n",
              "        text-align: right;\n",
              "    }\n",
              "</style>\n",
              "<table border=\"1\" class=\"dataframe\">\n",
              "  <thead>\n",
              "    <tr style=\"text-align: right;\">\n",
              "      <th></th>\n",
              "      <th>Gallstone Status</th>\n",
              "      <th>Age</th>\n",
              "      <th>Gender</th>\n",
              "      <th>Comorbidity</th>\n",
              "      <th>Coronary Artery Disease (CAD)</th>\n",
              "      <th>Hypothyroidism</th>\n",
              "      <th>Hyperlipidemia</th>\n",
              "      <th>Diabetes Mellitus (DM)</th>\n",
              "      <th>Height</th>\n",
              "      <th>Weight</th>\n",
              "      <th>...</th>\n",
              "      <th>High Density Lipoprotein (HDL)</th>\n",
              "      <th>Triglyceride</th>\n",
              "      <th>Aspartat Aminotransferaz (AST)</th>\n",
              "      <th>Alanin Aminotransferaz (ALT)</th>\n",
              "      <th>Alkaline Phosphatase (ALP)</th>\n",
              "      <th>Creatinine</th>\n",
              "      <th>Glomerular Filtration Rate (GFR)</th>\n",
              "      <th>C-Reactive Protein (CRP)</th>\n",
              "      <th>Hemoglobin (HGB)</th>\n",
              "      <th>Vitamin D</th>\n",
              "    </tr>\n",
              "  </thead>\n",
              "  <tbody>\n",
              "    <tr>\n",
              "      <th>count</th>\n",
              "      <td>319.000000</td>\n",
              "      <td>319.000000</td>\n",
              "      <td>319.000000</td>\n",
              "      <td>319.000000</td>\n",
              "      <td>319.000000</td>\n",
              "      <td>319.000000</td>\n",
              "      <td>319.000000</td>\n",
              "      <td>319.000000</td>\n",
              "      <td>319.00000</td>\n",
              "      <td>319.000000</td>\n",
              "      <td>...</td>\n",
              "      <td>319.000000</td>\n",
              "      <td>319.000000</td>\n",
              "      <td>319.000000</td>\n",
              "      <td>319.000000</td>\n",
              "      <td>319.000000</td>\n",
              "      <td>319.000000</td>\n",
              "      <td>319.000000</td>\n",
              "      <td>319.000000</td>\n",
              "      <td>319.000000</td>\n",
              "      <td>319.000000</td>\n",
              "    </tr>\n",
              "    <tr>\n",
              "      <th>mean</th>\n",
              "      <td>0.495298</td>\n",
              "      <td>48.068966</td>\n",
              "      <td>0.492163</td>\n",
              "      <td>0.335423</td>\n",
              "      <td>0.037618</td>\n",
              "      <td>0.028213</td>\n",
              "      <td>0.025078</td>\n",
              "      <td>0.134796</td>\n",
              "      <td>167.15674</td>\n",
              "      <td>80.564890</td>\n",
              "      <td>...</td>\n",
              "      <td>49.475549</td>\n",
              "      <td>144.502163</td>\n",
              "      <td>21.684953</td>\n",
              "      <td>26.855799</td>\n",
              "      <td>73.112539</td>\n",
              "      <td>0.800611</td>\n",
              "      <td>100.818903</td>\n",
              "      <td>1.853856</td>\n",
              "      <td>14.418182</td>\n",
              "      <td>21.401411</td>\n",
              "    </tr>\n",
              "    <tr>\n",
              "      <th>std</th>\n",
              "      <td>0.500763</td>\n",
              "      <td>12.114558</td>\n",
              "      <td>0.500724</td>\n",
              "      <td>0.517340</td>\n",
              "      <td>0.190568</td>\n",
              "      <td>0.165841</td>\n",
              "      <td>0.156609</td>\n",
              "      <td>0.342042</td>\n",
              "      <td>10.05303</td>\n",
              "      <td>15.709069</td>\n",
              "      <td>...</td>\n",
              "      <td>17.718701</td>\n",
              "      <td>97.904493</td>\n",
              "      <td>16.697605</td>\n",
              "      <td>27.884413</td>\n",
              "      <td>24.181069</td>\n",
              "      <td>0.176433</td>\n",
              "      <td>16.971396</td>\n",
              "      <td>4.989591</td>\n",
              "      <td>1.775815</td>\n",
              "      <td>9.981659</td>\n",
              "    </tr>\n",
              "    <tr>\n",
              "      <th>min</th>\n",
              "      <td>0.000000</td>\n",
              "      <td>20.000000</td>\n",
              "      <td>0.000000</td>\n",
              "      <td>0.000000</td>\n",
              "      <td>0.000000</td>\n",
              "      <td>0.000000</td>\n",
              "      <td>0.000000</td>\n",
              "      <td>0.000000</td>\n",
              "      <td>145.00000</td>\n",
              "      <td>42.900000</td>\n",
              "      <td>...</td>\n",
              "      <td>25.000000</td>\n",
              "      <td>1.390000</td>\n",
              "      <td>8.000000</td>\n",
              "      <td>3.000000</td>\n",
              "      <td>7.000000</td>\n",
              "      <td>0.460000</td>\n",
              "      <td>10.600000</td>\n",
              "      <td>0.000000</td>\n",
              "      <td>8.500000</td>\n",
              "      <td>3.500000</td>\n",
              "    </tr>\n",
              "    <tr>\n",
              "      <th>25%</th>\n",
              "      <td>0.000000</td>\n",
              "      <td>38.500000</td>\n",
              "      <td>0.000000</td>\n",
              "      <td>0.000000</td>\n",
              "      <td>0.000000</td>\n",
              "      <td>0.000000</td>\n",
              "      <td>0.000000</td>\n",
              "      <td>0.000000</td>\n",
              "      <td>159.50000</td>\n",
              "      <td>69.600000</td>\n",
              "      <td>...</td>\n",
              "      <td>40.000000</td>\n",
              "      <td>83.000000</td>\n",
              "      <td>15.000000</td>\n",
              "      <td>14.250000</td>\n",
              "      <td>58.000000</td>\n",
              "      <td>0.650000</td>\n",
              "      <td>94.170000</td>\n",
              "      <td>0.000000</td>\n",
              "      <td>13.300000</td>\n",
              "      <td>13.250000</td>\n",
              "    </tr>\n",
              "    <tr>\n",
              "      <th>50%</th>\n",
              "      <td>0.000000</td>\n",
              "      <td>49.000000</td>\n",
              "      <td>0.000000</td>\n",
              "      <td>0.000000</td>\n",
              "      <td>0.000000</td>\n",
              "      <td>0.000000</td>\n",
              "      <td>0.000000</td>\n",
              "      <td>0.000000</td>\n",
              "      <td>168.00000</td>\n",
              "      <td>78.800000</td>\n",
              "      <td>...</td>\n",
              "      <td>46.500000</td>\n",
              "      <td>119.000000</td>\n",
              "      <td>18.000000</td>\n",
              "      <td>19.000000</td>\n",
              "      <td>71.000000</td>\n",
              "      <td>0.790000</td>\n",
              "      <td>104.000000</td>\n",
              "      <td>0.215000</td>\n",
              "      <td>14.400000</td>\n",
              "      <td>22.000000</td>\n",
              "    </tr>\n",
              "    <tr>\n",
              "      <th>75%</th>\n",
              "      <td>1.000000</td>\n",
              "      <td>56.000000</td>\n",
              "      <td>1.000000</td>\n",
              "      <td>1.000000</td>\n",
              "      <td>0.000000</td>\n",
              "      <td>0.000000</td>\n",
              "      <td>0.000000</td>\n",
              "      <td>0.000000</td>\n",
              "      <td>175.00000</td>\n",
              "      <td>91.250000</td>\n",
              "      <td>...</td>\n",
              "      <td>56.000000</td>\n",
              "      <td>172.000000</td>\n",
              "      <td>23.000000</td>\n",
              "      <td>30.000000</td>\n",
              "      <td>86.000000</td>\n",
              "      <td>0.920000</td>\n",
              "      <td>110.745000</td>\n",
              "      <td>1.615000</td>\n",
              "      <td>15.700000</td>\n",
              "      <td>28.060000</td>\n",
              "    </tr>\n",
              "    <tr>\n",
              "      <th>max</th>\n",
              "      <td>1.000000</td>\n",
              "      <td>96.000000</td>\n",
              "      <td>1.000000</td>\n",
              "      <td>3.000000</td>\n",
              "      <td>1.000000</td>\n",
              "      <td>1.000000</td>\n",
              "      <td>1.000000</td>\n",
              "      <td>1.000000</td>\n",
              "      <td>191.00000</td>\n",
              "      <td>143.500000</td>\n",
              "      <td>...</td>\n",
              "      <td>273.000000</td>\n",
              "      <td>838.000000</td>\n",
              "      <td>195.000000</td>\n",
              "      <td>372.000000</td>\n",
              "      <td>197.000000</td>\n",
              "      <td>1.460000</td>\n",
              "      <td>132.000000</td>\n",
              "      <td>43.400000</td>\n",
              "      <td>18.800000</td>\n",
              "      <td>53.100000</td>\n",
              "    </tr>\n",
              "  </tbody>\n",
              "</table>\n",
              "<p>8 rows × 39 columns</p>\n",
              "</div>"
            ],
            "text/plain": [
              "       Gallstone Status         Age      Gender  Comorbidity  \\\n",
              "count        319.000000  319.000000  319.000000   319.000000   \n",
              "mean           0.495298   48.068966    0.492163     0.335423   \n",
              "std            0.500763   12.114558    0.500724     0.517340   \n",
              "min            0.000000   20.000000    0.000000     0.000000   \n",
              "25%            0.000000   38.500000    0.000000     0.000000   \n",
              "50%            0.000000   49.000000    0.000000     0.000000   \n",
              "75%            1.000000   56.000000    1.000000     1.000000   \n",
              "max            1.000000   96.000000    1.000000     3.000000   \n",
              "\n",
              "       Coronary Artery Disease (CAD)  Hypothyroidism  Hyperlipidemia  \\\n",
              "count                     319.000000      319.000000      319.000000   \n",
              "mean                        0.037618        0.028213        0.025078   \n",
              "std                         0.190568        0.165841        0.156609   \n",
              "min                         0.000000        0.000000        0.000000   \n",
              "25%                         0.000000        0.000000        0.000000   \n",
              "50%                         0.000000        0.000000        0.000000   \n",
              "75%                         0.000000        0.000000        0.000000   \n",
              "max                         1.000000        1.000000        1.000000   \n",
              "\n",
              "       Diabetes Mellitus (DM)     Height      Weight  ...  \\\n",
              "count              319.000000  319.00000  319.000000  ...   \n",
              "mean                 0.134796  167.15674   80.564890  ...   \n",
              "std                  0.342042   10.05303   15.709069  ...   \n",
              "min                  0.000000  145.00000   42.900000  ...   \n",
              "25%                  0.000000  159.50000   69.600000  ...   \n",
              "50%                  0.000000  168.00000   78.800000  ...   \n",
              "75%                  0.000000  175.00000   91.250000  ...   \n",
              "max                  1.000000  191.00000  143.500000  ...   \n",
              "\n",
              "       High Density Lipoprotein (HDL)  Triglyceride  \\\n",
              "count                      319.000000    319.000000   \n",
              "mean                        49.475549    144.502163   \n",
              "std                         17.718701     97.904493   \n",
              "min                         25.000000      1.390000   \n",
              "25%                         40.000000     83.000000   \n",
              "50%                         46.500000    119.000000   \n",
              "75%                         56.000000    172.000000   \n",
              "max                        273.000000    838.000000   \n",
              "\n",
              "       Aspartat Aminotransferaz (AST)  Alanin Aminotransferaz (ALT)  \\\n",
              "count                      319.000000                    319.000000   \n",
              "mean                        21.684953                     26.855799   \n",
              "std                         16.697605                     27.884413   \n",
              "min                          8.000000                      3.000000   \n",
              "25%                         15.000000                     14.250000   \n",
              "50%                         18.000000                     19.000000   \n",
              "75%                         23.000000                     30.000000   \n",
              "max                        195.000000                    372.000000   \n",
              "\n",
              "       Alkaline Phosphatase (ALP)  Creatinine  \\\n",
              "count                  319.000000  319.000000   \n",
              "mean                    73.112539    0.800611   \n",
              "std                     24.181069    0.176433   \n",
              "min                      7.000000    0.460000   \n",
              "25%                     58.000000    0.650000   \n",
              "50%                     71.000000    0.790000   \n",
              "75%                     86.000000    0.920000   \n",
              "max                    197.000000    1.460000   \n",
              "\n",
              "       Glomerular Filtration Rate (GFR)  C-Reactive Protein (CRP)  \\\n",
              "count                        319.000000                319.000000   \n",
              "mean                         100.818903                  1.853856   \n",
              "std                           16.971396                  4.989591   \n",
              "min                           10.600000                  0.000000   \n",
              "25%                           94.170000                  0.000000   \n",
              "50%                          104.000000                  0.215000   \n",
              "75%                          110.745000                  1.615000   \n",
              "max                          132.000000                 43.400000   \n",
              "\n",
              "       Hemoglobin (HGB)   Vitamin D  \n",
              "count        319.000000  319.000000  \n",
              "mean          14.418182   21.401411  \n",
              "std            1.775815    9.981659  \n",
              "min            8.500000    3.500000  \n",
              "25%           13.300000   13.250000  \n",
              "50%           14.400000   22.000000  \n",
              "75%           15.700000   28.060000  \n",
              "max           18.800000   53.100000  \n",
              "\n",
              "[8 rows x 39 columns]"
            ]
          },
          "execution_count": 50,
          "metadata": {},
          "output_type": "execute_result"
        }
      ],
      "source": [
        "df.describe()"
      ]
    },
    {
      "cell_type": "code",
      "execution_count": 51,
      "id": "913ca1e1",
      "metadata": {},
      "outputs": [
        {
          "data": {
            "application/vnd.microsoft.datawrangler.viewer.v0+json": {
              "columns": [
                {
                  "name": "index",
                  "rawType": "object",
                  "type": "string"
                },
                {
                  "name": "Gallstone Status",
                  "rawType": "float64",
                  "type": "float"
                }
              ],
              "ref": "026070cd-509e-454e-a4ae-70840059d083",
              "rows": [
                [
                  "Gallstone Status",
                  "1.0"
                ],
                [
                  "C-Reactive Protein (CRP)",
                  "0.281994854931243"
                ],
                [
                  "Total Body Fat Ratio (TBFR) (%)",
                  "0.2254701494305645"
                ],
                [
                  "Total Fat Content (TFC)",
                  "0.1701578817110958"
                ],
                [
                  "Hyperlipidemia",
                  "0.16190087410492768"
                ]
              ],
              "shape": {
                "columns": 1,
                "rows": 5
              }
            },
            "text/plain": [
              "Gallstone Status                   1.000000\n",
              "C-Reactive Protein (CRP)           0.281995\n",
              "Total Body Fat Ratio (TBFR) (%)    0.225470\n",
              "Total Fat Content (TFC)            0.170158\n",
              "Hyperlipidemia                     0.161901\n",
              "Name: Gallstone Status, dtype: float64"
            ]
          },
          "execution_count": 51,
          "metadata": {},
          "output_type": "execute_result"
        }
      ],
      "source": [
        "correlation_matrix = df.corr()\n",
        "correlation_matrix[\"Gallstone Status\"].sort_values(ascending=False)[:5]"
      ]
    },
    {
      "cell_type": "markdown",
      "id": "3c9ac54c",
      "metadata": {
        "id": "3c9ac54c"
      },
      "source": [
        "## Separando rotulo e atributos"
      ]
    },
    {
      "cell_type": "code",
      "execution_count": 52,
      "id": "76a2a4d5",
      "metadata": {
        "id": "76a2a4d5"
      },
      "outputs": [],
      "source": [
        "X,y = df.drop(columns=[\"Gallstone Status\"]), df[\"Gallstone Status\"]"
      ]
    },
    {
      "cell_type": "markdown",
      "id": "9bb47623",
      "metadata": {
        "id": "9bb47623"
      },
      "source": [
        "# Stratified K-Fold Cross Validation"
      ]
    },
    {
      "cell_type": "code",
      "execution_count": null,
      "id": "ef34b620",
      "metadata": {
        "id": "ef34b620"
      },
      "outputs": [],
      "source": [
        "scaler = StandardScaler()\n",
        "knn = KNeighborsClassifier(n_neighbors=5)\n",
        "pipe = make_pipeline(scaler, knn)"
      ]
    },
    {
      "cell_type": "code",
      "execution_count": null,
      "id": "8a7c7e30",
      "metadata": {
        "colab": {
          "base_uri": "https://localhost:8080/"
        },
        "id": "8a7c7e30",
        "outputId": "9936f839-a53d-4d1f-8ce3-aa82feea98e0"
      },
      "outputs": [
        {
          "data": {
            "application/vnd.microsoft.datawrangler.viewer.v0+json": {
              "columns": [
                {
                  "name": "index",
                  "rawType": "object",
                  "type": "string"
                },
                {
                  "name": "accuracy",
                  "rawType": "float64",
                  "type": "float"
                },
                {
                  "name": "precision",
                  "rawType": "float64",
                  "type": "float"
                },
                {
                  "name": "recall",
                  "rawType": "float64",
                  "type": "float"
                },
                {
                  "name": "f1_score",
                  "rawType": "float64",
                  "type": "float"
                },
                {
                  "name": "kappa",
                  "rawType": "float64",
                  "type": "float"
                }
              ],
              "ref": "de9a2904-6d30-4341-8181-2926a583ee77",
              "rows": [
                [
                  "count",
                  "10.0",
                  "10.0",
                  "10.0",
                  "10.0",
                  "10.0"
                ],
                [
                  "mean",
                  "0.5177797943133695",
                  "0.5143915967680065",
                  "0.4743149060390439",
                  "0.490961790155224",
                  "0.10568473770179773"
                ],
                [
                  "std",
                  "0.015457622012700787",
                  "0.02427813830999978",
                  "0.03018169799831611",
                  "0.02607137409280001",
                  "0.1864227542031976"
                ],
                [
                  "min",
                  "0.49140955837870537",
                  "0.4689855072463768",
                  "0.428042328042328",
                  "0.4463326967636799",
                  "-0.1428571428571428"
                ],
                [
                  "25%",
                  "0.512129461584997",
                  "0.5084880189255189",
                  "0.45966748768472904",
                  "0.48126998474959337",
                  "-0.06044089147286824"
                ],
                [
                  "50%",
                  "0.5158197217180882",
                  "0.5127164283449044",
                  "0.4666256157635468",
                  "0.48789641306416776",
                  "0.14965711980637353"
                ],
                [
                  "75%",
                  "0.5250453720508166",
                  "0.5265194465422376",
                  "0.49002463054187184",
                  "0.4992770026901192",
                  "0.272"
                ],
                [
                  "max",
                  "0.5434361766485178",
                  "0.555790450928382",
                  "0.5333333333333334",
                  "0.5433460564811784",
                  "0.32307692307692304"
                ]
              ],
              "shape": {
                "columns": 5,
                "rows": 8
              }
            },
            "text/html": [
              "<div>\n",
              "<style scoped>\n",
              "    .dataframe tbody tr th:only-of-type {\n",
              "        vertical-align: middle;\n",
              "    }\n",
              "\n",
              "    .dataframe tbody tr th {\n",
              "        vertical-align: top;\n",
              "    }\n",
              "\n",
              "    .dataframe thead th {\n",
              "        text-align: right;\n",
              "    }\n",
              "</style>\n",
              "<table border=\"1\" class=\"dataframe\">\n",
              "  <thead>\n",
              "    <tr style=\"text-align: right;\">\n",
              "      <th></th>\n",
              "      <th>accuracy</th>\n",
              "      <th>precision</th>\n",
              "      <th>recall</th>\n",
              "      <th>f1_score</th>\n",
              "      <th>kappa</th>\n",
              "    </tr>\n",
              "  </thead>\n",
              "  <tbody>\n",
              "    <tr>\n",
              "      <th>count</th>\n",
              "      <td>10.000000</td>\n",
              "      <td>10.000000</td>\n",
              "      <td>10.000000</td>\n",
              "      <td>10.000000</td>\n",
              "      <td>10.000000</td>\n",
              "    </tr>\n",
              "    <tr>\n",
              "      <th>mean</th>\n",
              "      <td>0.517780</td>\n",
              "      <td>0.514392</td>\n",
              "      <td>0.474315</td>\n",
              "      <td>0.490962</td>\n",
              "      <td>0.105685</td>\n",
              "    </tr>\n",
              "    <tr>\n",
              "      <th>std</th>\n",
              "      <td>0.015458</td>\n",
              "      <td>0.024278</td>\n",
              "      <td>0.030182</td>\n",
              "      <td>0.026071</td>\n",
              "      <td>0.186423</td>\n",
              "    </tr>\n",
              "    <tr>\n",
              "      <th>min</th>\n",
              "      <td>0.491410</td>\n",
              "      <td>0.468986</td>\n",
              "      <td>0.428042</td>\n",
              "      <td>0.446333</td>\n",
              "      <td>-0.142857</td>\n",
              "    </tr>\n",
              "    <tr>\n",
              "      <th>25%</th>\n",
              "      <td>0.512129</td>\n",
              "      <td>0.508488</td>\n",
              "      <td>0.459667</td>\n",
              "      <td>0.481270</td>\n",
              "      <td>-0.060441</td>\n",
              "    </tr>\n",
              "    <tr>\n",
              "      <th>50%</th>\n",
              "      <td>0.515820</td>\n",
              "      <td>0.512716</td>\n",
              "      <td>0.466626</td>\n",
              "      <td>0.487896</td>\n",
              "      <td>0.149657</td>\n",
              "    </tr>\n",
              "    <tr>\n",
              "      <th>75%</th>\n",
              "      <td>0.525045</td>\n",
              "      <td>0.526519</td>\n",
              "      <td>0.490025</td>\n",
              "      <td>0.499277</td>\n",
              "      <td>0.272000</td>\n",
              "    </tr>\n",
              "    <tr>\n",
              "      <th>max</th>\n",
              "      <td>0.543436</td>\n",
              "      <td>0.555790</td>\n",
              "      <td>0.533333</td>\n",
              "      <td>0.543346</td>\n",
              "      <td>0.323077</td>\n",
              "    </tr>\n",
              "  </tbody>\n",
              "</table>\n",
              "</div>"
            ],
            "text/plain": [
              "        accuracy  precision     recall   f1_score      kappa\n",
              "count  10.000000  10.000000  10.000000  10.000000  10.000000\n",
              "mean    0.517780   0.514392   0.474315   0.490962   0.105685\n",
              "std     0.015458   0.024278   0.030182   0.026071   0.186423\n",
              "min     0.491410   0.468986   0.428042   0.446333  -0.142857\n",
              "25%     0.512129   0.508488   0.459667   0.481270  -0.060441\n",
              "50%     0.515820   0.512716   0.466626   0.487896   0.149657\n",
              "75%     0.525045   0.526519   0.490025   0.499277   0.272000\n",
              "max     0.543436   0.555790   0.533333   0.543346   0.323077"
            ]
          },
          "execution_count": 54,
          "metadata": {},
          "output_type": "execute_result"
        }
      ],
      "source": [
        "NUM_TEST = 10\n",
        "metrics = { \"accuracy\": [], \"precision\": [], \"recall\": [], \"f1_score\": [], \"kappa\": [] }\n",
        "scoring = {'accuracy': 'accuracy', 'precision': 'precision', 'recall': 'recall','f1':'f1'}\n",
        "skf = StratifiedKFold(n_splits=5, shuffle=True)\n",
        "\n",
        "for i in range(NUM_TEST):\n",
        "    X_train_val, X_test, y_train_val, y_test = train_test_split(X, y, test_size=0.1, shuffle=True)\n",
        "    scores_cv = cross_validate(pipe, X_train_val, y_train_val, cv=skf, scoring=scoring)\n",
        "    pipe.fit(X_train_val, y_train_val)\n",
        "    y_pred = pipe.predict(X_test)\n",
        "\n",
        "    metrics[\"accuracy\"].append(scores_cv[\"test_accuracy\"].mean())\n",
        "    metrics[\"precision\"].append(scores_cv[\"test_precision\"].mean())\n",
        "    metrics[\"recall\"].append(scores_cv[\"test_recall\"].mean())\n",
        "    metrics[\"f1_score\"].append(scores_cv[\"test_f1\"].mean())\n",
        "    metrics[\"kappa\"].append(cohen_kappa_score(y_test, y_pred))\n",
        "\n",
        "df_metrics = pd.DataFrame(metrics)\n",
        "df_metrics.describe()"
      ]
    },
    {
      "cell_type": "markdown",
      "id": "02a2a169",
      "metadata": {},
      "source": [
        "# Hold-out"
      ]
    },
    {
      "cell_type": "code",
      "execution_count": 55,
      "id": "fc94ef7f",
      "metadata": {},
      "outputs": [
        {
          "data": {
            "application/vnd.microsoft.datawrangler.viewer.v0+json": {
              "columns": [
                {
                  "name": "index",
                  "rawType": "object",
                  "type": "string"
                },
                {
                  "name": "accuracy",
                  "rawType": "float64",
                  "type": "float"
                },
                {
                  "name": "precision",
                  "rawType": "float64",
                  "type": "float"
                },
                {
                  "name": "recall",
                  "rawType": "float64",
                  "type": "float"
                },
                {
                  "name": "f1_score",
                  "rawType": "float64",
                  "type": "float"
                },
                {
                  "name": "kappa",
                  "rawType": "float64",
                  "type": "float"
                }
              ],
              "ref": "7f83bbf7-9a26-4860-b351-a157de6ff582",
              "rows": [
                [
                  "count",
                  "10.0",
                  "10.0",
                  "10.0",
                  "10.0",
                  "10.0"
                ],
                [
                  "mean",
                  "0.534375",
                  "0.5377721863721179",
                  "0.534375",
                  "0.5321066591430521",
                  "0.06971350939991637"
                ],
                [
                  "std",
                  "0.0666178206471645",
                  "0.06932722642441315",
                  "0.0666178206471645",
                  "0.06953361256913301",
                  "0.13238912294762326"
                ],
                [
                  "min",
                  "0.421875",
                  "0.42533801696712614",
                  "0.421875",
                  "0.4108753397578453",
                  "-0.1362763915547025"
                ],
                [
                  "25%",
                  "0.4921875",
                  "0.4940185546875",
                  "0.4921875",
                  "0.49039685990436543",
                  "-0.013747577519379856"
                ],
                [
                  "50%",
                  "0.5390625",
                  "0.5385974702380952",
                  "0.5390625",
                  "0.5382277081798084",
                  "0.06890756302521012"
                ],
                [
                  "75%",
                  "0.5625",
                  "0.5717210591133004",
                  "0.5625",
                  "0.5632477826174458",
                  "0.12944445709860375"
                ],
                [
                  "max",
                  "0.65625",
                  "0.6613970588235294",
                  "0.65625",
                  "0.65625",
                  "0.3151750972762646"
                ]
              ],
              "shape": {
                "columns": 5,
                "rows": 8
              }
            },
            "text/html": [
              "<div>\n",
              "<style scoped>\n",
              "    .dataframe tbody tr th:only-of-type {\n",
              "        vertical-align: middle;\n",
              "    }\n",
              "\n",
              "    .dataframe tbody tr th {\n",
              "        vertical-align: top;\n",
              "    }\n",
              "\n",
              "    .dataframe thead th {\n",
              "        text-align: right;\n",
              "    }\n",
              "</style>\n",
              "<table border=\"1\" class=\"dataframe\">\n",
              "  <thead>\n",
              "    <tr style=\"text-align: right;\">\n",
              "      <th></th>\n",
              "      <th>accuracy</th>\n",
              "      <th>precision</th>\n",
              "      <th>recall</th>\n",
              "      <th>f1_score</th>\n",
              "      <th>kappa</th>\n",
              "    </tr>\n",
              "  </thead>\n",
              "  <tbody>\n",
              "    <tr>\n",
              "      <th>count</th>\n",
              "      <td>10.000000</td>\n",
              "      <td>10.000000</td>\n",
              "      <td>10.000000</td>\n",
              "      <td>10.000000</td>\n",
              "      <td>10.000000</td>\n",
              "    </tr>\n",
              "    <tr>\n",
              "      <th>mean</th>\n",
              "      <td>0.534375</td>\n",
              "      <td>0.537772</td>\n",
              "      <td>0.534375</td>\n",
              "      <td>0.532107</td>\n",
              "      <td>0.069714</td>\n",
              "    </tr>\n",
              "    <tr>\n",
              "      <th>std</th>\n",
              "      <td>0.066618</td>\n",
              "      <td>0.069327</td>\n",
              "      <td>0.066618</td>\n",
              "      <td>0.069534</td>\n",
              "      <td>0.132389</td>\n",
              "    </tr>\n",
              "    <tr>\n",
              "      <th>min</th>\n",
              "      <td>0.421875</td>\n",
              "      <td>0.425338</td>\n",
              "      <td>0.421875</td>\n",
              "      <td>0.410875</td>\n",
              "      <td>-0.136276</td>\n",
              "    </tr>\n",
              "    <tr>\n",
              "      <th>25%</th>\n",
              "      <td>0.492188</td>\n",
              "      <td>0.494019</td>\n",
              "      <td>0.492188</td>\n",
              "      <td>0.490397</td>\n",
              "      <td>-0.013748</td>\n",
              "    </tr>\n",
              "    <tr>\n",
              "      <th>50%</th>\n",
              "      <td>0.539062</td>\n",
              "      <td>0.538597</td>\n",
              "      <td>0.539062</td>\n",
              "      <td>0.538228</td>\n",
              "      <td>0.068908</td>\n",
              "    </tr>\n",
              "    <tr>\n",
              "      <th>75%</th>\n",
              "      <td>0.562500</td>\n",
              "      <td>0.571721</td>\n",
              "      <td>0.562500</td>\n",
              "      <td>0.563248</td>\n",
              "      <td>0.129444</td>\n",
              "    </tr>\n",
              "    <tr>\n",
              "      <th>max</th>\n",
              "      <td>0.656250</td>\n",
              "      <td>0.661397</td>\n",
              "      <td>0.656250</td>\n",
              "      <td>0.656250</td>\n",
              "      <td>0.315175</td>\n",
              "    </tr>\n",
              "  </tbody>\n",
              "</table>\n",
              "</div>"
            ],
            "text/plain": [
              "        accuracy  precision     recall   f1_score      kappa\n",
              "count  10.000000  10.000000  10.000000  10.000000  10.000000\n",
              "mean    0.534375   0.537772   0.534375   0.532107   0.069714\n",
              "std     0.066618   0.069327   0.066618   0.069534   0.132389\n",
              "min     0.421875   0.425338   0.421875   0.410875  -0.136276\n",
              "25%     0.492188   0.494019   0.492188   0.490397  -0.013748\n",
              "50%     0.539062   0.538597   0.539062   0.538228   0.068908\n",
              "75%     0.562500   0.571721   0.562500   0.563248   0.129444\n",
              "max     0.656250   0.661397   0.656250   0.656250   0.315175"
            ]
          },
          "execution_count": 55,
          "metadata": {},
          "output_type": "execute_result"
        }
      ],
      "source": [
        "NUM_TEST = 10\n",
        "metrics = { \"accuracy\": [], \"precision\": [], \"recall\": [], \"f1_score\": [], \"kappa\": [] }\n",
        "scoring = {'accuracy': 'accuracy', 'precision': 'precision', 'recall': 'recall','f1':'f1'}\n",
        "\n",
        "for i in range(NUM_TEST):\n",
        "    X_train_val, X_test, y_train_val, y_test = train_test_split(X, y, test_size=0.2, shuffle=True)\n",
        "    pipe.fit(X_train_val, y_train_val)\n",
        "    y_pred = pipe.predict(X_test)\n",
        "\n",
        "    metrics[\"accuracy\"].append(accuracy_score(y_test, y_pred))\n",
        "    metrics[\"precision\"].append(precision_score(y_test, y_pred, average='weighted'))\n",
        "    metrics[\"recall\"].append(recall_score(y_test, y_pred, average='weighted'))\n",
        "    metrics[\"f1_score\"].append(f1_score(y_test, y_pred, average='weighted'))\n",
        "    metrics[\"kappa\"].append(cohen_kappa_score(y_test, y_pred))\n",
        "\n",
        "df_metrics = pd.DataFrame(metrics)\n",
        "df_metrics.describe()"
      ]
    },
    {
      "cell_type": "markdown",
      "id": "17c4be11",
      "metadata": {},
      "source": [
        "# Leave-One-Out Cross Validation"
      ]
    },
    {
      "cell_type": "code",
      "execution_count": 56,
      "id": "73914e88",
      "metadata": {},
      "outputs": [
        {
          "data": {
            "application/vnd.microsoft.datawrangler.viewer.v0+json": {
              "columns": [
                {
                  "name": "index",
                  "rawType": "int64",
                  "type": "integer"
                },
                {
                  "name": "accuracy",
                  "rawType": "float64",
                  "type": "float"
                },
                {
                  "name": "precision",
                  "rawType": "float64",
                  "type": "float"
                },
                {
                  "name": "recall",
                  "rawType": "float64",
                  "type": "float"
                },
                {
                  "name": "f1_score",
                  "rawType": "float64",
                  "type": "float"
                },
                {
                  "name": "kappa",
                  "rawType": "float64",
                  "type": "float"
                }
              ],
              "ref": "07b6b35f-f3d9-4621-85c3-862eb724bda8",
              "rows": [
                [
                  "0",
                  "0.5109717868338558",
                  "0.5105601393175838",
                  "0.5109717868338558",
                  "0.5087496339764942",
                  "0.020702141057934442"
                ]
              ],
              "shape": {
                "columns": 5,
                "rows": 1
              }
            },
            "text/html": [
              "<div>\n",
              "<style scoped>\n",
              "    .dataframe tbody tr th:only-of-type {\n",
              "        vertical-align: middle;\n",
              "    }\n",
              "\n",
              "    .dataframe tbody tr th {\n",
              "        vertical-align: top;\n",
              "    }\n",
              "\n",
              "    .dataframe thead th {\n",
              "        text-align: right;\n",
              "    }\n",
              "</style>\n",
              "<table border=\"1\" class=\"dataframe\">\n",
              "  <thead>\n",
              "    <tr style=\"text-align: right;\">\n",
              "      <th></th>\n",
              "      <th>accuracy</th>\n",
              "      <th>precision</th>\n",
              "      <th>recall</th>\n",
              "      <th>f1_score</th>\n",
              "      <th>kappa</th>\n",
              "    </tr>\n",
              "  </thead>\n",
              "  <tbody>\n",
              "    <tr>\n",
              "      <th>0</th>\n",
              "      <td>0.510972</td>\n",
              "      <td>0.51056</td>\n",
              "      <td>0.510972</td>\n",
              "      <td>0.50875</td>\n",
              "      <td>0.020702</td>\n",
              "    </tr>\n",
              "  </tbody>\n",
              "</table>\n",
              "</div>"
            ],
            "text/plain": [
              "   accuracy  precision    recall  f1_score     kappa\n",
              "0  0.510972    0.51056  0.510972   0.50875  0.020702"
            ]
          },
          "execution_count": 56,
          "metadata": {},
          "output_type": "execute_result"
        }
      ],
      "source": [
        "scoring = {'accuracy': 'accuracy', 'precision': 'precision', 'recall': 'recall', 'f1': 'f1'}\n",
        "metrics = {\"accuracy\": [], \"precision\": [], \"recall\": [], \"f1_score\": [], \"kappa\": []}\n",
        "loo = LeaveOneOut()\n",
        "\n",
        "y_predicts = []\n",
        "y_trues = []\n",
        "\n",
        "for train_index, test_index in loo.split(X):\n",
        "    X_train, X_test = X.iloc[train_index], X.iloc[test_index]\n",
        "    y_train, y_test = y.iloc[train_index], y.iloc[test_index]\n",
        "\n",
        "    pipe.fit(X_train, y_train)\n",
        "    y_pred = pipe.predict(X_test)\n",
        "    \n",
        "    y_predicts.append(y_pred[0])\n",
        "    y_trues.append(y_test.values[0])\n",
        "    \n",
        "metrics[\"accuracy\"].append(accuracy_score(y_trues, y_predicts))\n",
        "metrics[\"precision\"].append(precision_score(y_trues, y_predicts, average='weighted'))\n",
        "metrics[\"recall\"].append(recall_score(y_trues, y_predicts, average='weighted'))\n",
        "metrics[\"f1_score\"].append(f1_score(y_trues, y_predicts, average='weighted'))\n",
        "metrics[\"kappa\"].append(cohen_kappa_score(y_trues, y_predicts))\n",
        "\n",
        "df_metrics = pd.DataFrame(metrics)\n",
        "df_metrics"
      ]
    }
  ],
  "metadata": {
    "colab": {
      "provenance": []
    },
    "kernelspec": {
      "display_name": ".venv (3.13.5)",
      "language": "python",
      "name": "python3"
    },
    "language_info": {
      "codemirror_mode": {
        "name": "ipython",
        "version": 3
      },
      "file_extension": ".py",
      "mimetype": "text/x-python",
      "name": "python",
      "nbconvert_exporter": "python",
      "pygments_lexer": "ipython3",
      "version": "3.13.5"
    }
  },
  "nbformat": 4,
  "nbformat_minor": 5
}
